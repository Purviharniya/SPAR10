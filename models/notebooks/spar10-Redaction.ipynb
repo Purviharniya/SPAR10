{
  "nbformat": 4,
  "nbformat_minor": 0,
  "metadata": {
    "colab": {
      "name": "Redaction",
      "provenance": [],
      "collapsed_sections": []
    },
    "kernelspec": {
      "name": "python3",
      "display_name": "Python 3"
    },
    "language_info": {
      "name": "python"
    }
  },
  "cells": [
    {
      "cell_type": "markdown",
      "metadata": {
        "id": "n8STgEKYvcMO"
      },
      "source": [
        "# **SPAR10: Redaction**"
      ]
    },
    {
      "cell_type": "markdown",
      "metadata": {
        "id": "n--qzv88vL9J"
      },
      "source": [
        "### Installing the required libraries"
      ]
    },
    {
      "cell_type": "code",
      "metadata": {
        "colab": {
          "base_uri": "https://localhost:8080/"
        },
        "id": "9qAZUhUZcbxj",
        "outputId": "4bbff30d-cd98-4236-ea20-2d303d99640d"
      },
      "source": [
        "pip install PyMuPDF==1.16.14"
      ],
      "execution_count": 1,
      "outputs": [
        {
          "output_type": "stream",
          "name": "stdout",
          "text": [
            "Requirement already satisfied: PyMuPDF==1.16.14 in /usr/local/lib/python3.7/dist-packages (1.16.14)\n"
          ]
        }
      ]
    },
    {
      "cell_type": "code",
      "metadata": {
        "colab": {
          "base_uri": "https://localhost:8080/"
        },
        "id": "-40kw2e1ZnB9",
        "outputId": "b08860b8-7dbd-40f3-ecaf-7ca59e80dcf5"
      },
      "source": [
        "pip install aspose.words"
      ],
      "execution_count": 2,
      "outputs": [
        {
          "output_type": "stream",
          "name": "stdout",
          "text": [
            "Requirement already satisfied: aspose.words in /usr/local/lib/python3.7/dist-packages (21.11.0)\n"
          ]
        }
      ]
    },
    {
      "cell_type": "markdown",
      "metadata": {
        "id": "0qe7kHbstoU_"
      },
      "source": [
        "### Importing the required libraries"
      ]
    },
    {
      "cell_type": "code",
      "metadata": {
        "id": "QKfw7YNiTzOF",
        "colab": {
          "base_uri": "https://localhost:8080/"
        },
        "outputId": "bf46283d-a3ab-4468-b204-eaff7f72e816"
      },
      "source": [
        "# NLP libraries\n",
        "import spacy\n",
        "from spacy import displacy\n",
        "nlp = spacy.load('en')\n",
        "\n",
        "# Time Pkg\n",
        "import time\n",
        "timestr = time.strftime(\"%Y%m%d-%H%M%S\")\n",
        "\n",
        "# for opening pdf\n",
        "import fitz\n",
        "\n",
        "# for dealing for docx\n",
        "import aspose.words as aw\n",
        "\n",
        "# fr ignoring warnings\n",
        "import warnings\n",
        "warnings.filterwarnings('ignore')\n",
        "\n",
        "import re"
      ],
      "execution_count": 3,
      "outputs": [
        {
          "output_type": "stream",
          "name": "stderr",
          "text": [
            "Exception ignored in: 'FieldInitializationWarning'\n",
            "ImportError: the static field 'transparent' of type 'aspose.pydrawing.Brushes' is not initialized\n",
            "Exception ignored in: 'FieldInitializationWarning'\n",
            "ImportError: the static field 'alice_blue' of type 'aspose.pydrawing.Brushes' is not initialized\n",
            "Exception ignored in: 'FieldInitializationWarning'\n",
            "ImportError: the static field 'antique_white' of type 'aspose.pydrawing.Brushes' is not initialized\n"
          ]
        }
      ]
    },
    {
      "cell_type": "markdown",
      "metadata": {
        "id": "H4Ch_z75wAZn"
      },
      "source": [
        "# CODE"
      ]
    },
    {
      "cell_type": "code",
      "metadata": {
        "id": "_T4jCsRzdQ5q"
      },
      "source": [
        "def get_sensitive_data(lines,tt):\n",
        "\t\n",
        "  docx = nlp(lines)\n",
        "  redacted_sentences = []\n",
        "  for ent in docx.ents:\n",
        "    ent.merge()\n",
        "  for token in docx:\n",
        "    if token.ent_type_ == tt:\n",
        "      yield token.string"
      ],
      "execution_count": 4,
      "outputs": []
    },
    {
      "cell_type": "code",
      "metadata": {
        "id": "v89Rpxdwgtyr"
      },
      "source": [
        "def get_email_addresses(string):\n",
        "  \n",
        "    r = re.compile(r'[\\w\\.-]+@[\\w\\.-]+')\n",
        "    return r.findall(string)"
      ],
      "execution_count": 5,
      "outputs": []
    },
    {
      "cell_type": "code",
      "metadata": {
        "id": "4bVnVWZLCuhU"
      },
      "source": [
        "def get_path():\n",
        "\n",
        "  # replace it with name of the pdf file\n",
        "  path = \"testing.pdf\"\n",
        "\n",
        "  if path[-4:]=='docx':\n",
        "    \n",
        "    # Load word document\n",
        "    doc = aw.Document(\"testing.docx\")\n",
        "\t\t# Save as PDF\n",
        "    doc.save(\"testing.pdf\")\n",
        "    path=\"testing.pdf\"\n",
        "\n",
        "  return path"
      ],
      "execution_count": 6,
      "outputs": []
    },
    {
      "cell_type": "code",
      "metadata": {
        "id": "2JT-cJXsCpfL"
      },
      "source": [
        "def redaction():\n",
        "\t\n",
        "  \"\"\" main redactor code \"\"\"\n",
        "\n",
        "  redactables = ['EMAIL','PERSON','GPE','LOC','ORG','TIME','DATE','MONEY','FAC','QUANITY','CARDINAL','ORDINAL']\n",
        "    \n",
        "  # get the path of the pdf\n",
        "  path = get_path()\n",
        "\t\t\n",
        "\t# opening the pdf\n",
        "  doc = fitz.open(path)\n",
        "\t\t\n",
        "\t# iterating through pages\n",
        "  for page in doc:\n",
        "\t\t\n",
        "\t  # _wrapContents is needed for fixing\n",
        "\t  # alignment issues with rect boxes in some\n",
        "\t\t# cases where there is alignment issue\n",
        "\t  page._wrapContents()\n",
        "\t \n",
        "\t  for i in redactables:\n",
        "\n",
        "\t\t\t# getting the react boxes which consists the matching email regex or the NER's\n",
        "\t\t  \n",
        "\t\t  if i=='EMAIL':\n",
        "\t\t\t  sensitive = get_email_addresses(page.getText(\"text\"))\n",
        "\t\t \n",
        "\t\t  else:\n",
        "\t\t\t  sensitive = get_sensitive_data(page.getText(\"text\"),i)\n",
        "\t\t\n",
        "\t\t  for data in sensitive:\n",
        "\t\t\t  areas = page.searchFor(data)\n",
        "\t\t\t\t\t\n",
        "\t\t\t\t# drawing outline over sensitive datas\n",
        "\t\t\t  [page.addRedactAnnot(area, fill = (0, 0, 0)) for area in areas]\n",
        "\t\t\t\t\t\n",
        "\t\t\t\t# applying the redaction\n",
        "\t\t\t  page.apply_redactions()\n",
        "\t\t\t\n",
        "  # saving it to a new pdf\n",
        "  doc.save('redacted.pdf')\n",
        "  print(\"Successfully redacted\")\t"
      ],
      "execution_count": 7,
      "outputs": []
    },
    {
      "cell_type": "code",
      "metadata": {
        "id": "xiEwfN6Ydot4",
        "colab": {
          "base_uri": "https://localhost:8080/"
        },
        "outputId": "fd21798c-3682-4ed3-b5b2-1e3c00de5dcb"
      },
      "source": [
        "redaction()"
      ],
      "execution_count": 8,
      "outputs": [
        {
          "output_type": "stream",
          "name": "stdout",
          "text": [
            "Successfully redacted\n"
          ]
        }
      ]
    }
  ]
}